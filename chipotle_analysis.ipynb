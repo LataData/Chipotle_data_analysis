{
  "nbformat": 4,
  "nbformat_minor": 0,
  "metadata": {
    "colab": {
      "provenance": [],
      "authorship_tag": "ABX9TyPnw5Qw7nJTdRbEgzQfOa/O"
    },
    "kernelspec": {
      "name": "python3",
      "display_name": "Python 3"
    },
    "language_info": {
      "name": "python"
    }
  },
  "cells": [
    {
      "cell_type": "code",
      "execution_count": 61,
      "metadata": {
        "colab": {
          "base_uri": "https://localhost:8080/"
        },
        "id": "VYyTsA9vXvfg",
        "outputId": "3384e796-6b41-4f94-a646-53f57e1b164e"
      },
      "outputs": [
        {
          "output_type": "stream",
          "name": "stdout",
          "text": [
            "Drive already mounted at /content/drive; to attempt to forcibly remount, call drive.mount(\"/content/drive\", force_remount=True).\n"
          ]
        }
      ],
      "source": [
        "from google.colab import drive\n",
        "drive.mount('/content/drive')"
      ]
    },
    {
      "cell_type": "code",
      "source": [
        "import pandas as pd\n",
        "import numpy as np\n",
        "import matplotlib.pyplot as plt\n",
        "import seaborn as sns"
      ],
      "metadata": {
        "id": "Mlgd2TYqXn_n"
      },
      "execution_count": 62,
      "outputs": []
    },
    {
      "cell_type": "code",
      "source": [
        "df=pd.read_table('/content/drive/MyDrive/Colab Notebooks/Data_motion_llc_challenges/raw.githubusercontent.com_justmarkham_DAT8_master_data_chipotle.tsv.txt',on_bad_lines='skip',sep='\\t')\n",
        "df.head(20)"
      ],
      "metadata": {
        "colab": {
          "base_uri": "https://localhost:8080/",
          "height": 677
        },
        "id": "j5unBRf-Y-nU",
        "outputId": "1859f169-18b1-4b1d-e33f-051b7b865ad1"
      },
      "execution_count": 63,
      "outputs": [
        {
          "output_type": "execute_result",
          "data": {
            "text/plain": [
              "    order_id  quantity                              item_name  \\\n",
              "0          1         1           Chips and Fresh Tomato Salsa   \n",
              "1          1         1                                   Izze   \n",
              "2          1         1                       Nantucket Nectar   \n",
              "3          1         1  Chips and Tomatillo-Green Chili Salsa   \n",
              "4          2         2                           Chicken Bowl   \n",
              "5          3         1                           Chicken Bowl   \n",
              "6          3         1                          Side of Chips   \n",
              "7          4         1                          Steak Burrito   \n",
              "8          4         1                       Steak Soft Tacos   \n",
              "9          5         1                          Steak Burrito   \n",
              "10         5         1                    Chips and Guacamole   \n",
              "11         6         1                   Chicken Crispy Tacos   \n",
              "12         6         1                     Chicken Soft Tacos   \n",
              "13         7         1                           Chicken Bowl   \n",
              "14         7         1                    Chips and Guacamole   \n",
              "15         8         1  Chips and Tomatillo-Green Chili Salsa   \n",
              "16         8         1                        Chicken Burrito   \n",
              "17         9         1                        Chicken Burrito   \n",
              "18         9         2                            Canned Soda   \n",
              "19        10         1                           Chicken Bowl   \n",
              "\n",
              "                                   choice_description item_price  \n",
              "0                                                 NaN     $2.39   \n",
              "1                                        [Clementine]     $3.39   \n",
              "2                                             [Apple]     $3.39   \n",
              "3                                                 NaN     $2.39   \n",
              "4   [Tomatillo-Red Chili Salsa (Hot), [Black Beans...    $16.98   \n",
              "5   [Fresh Tomato Salsa (Mild), [Rice, Cheese, Sou...    $10.98   \n",
              "6                                                 NaN     $1.69   \n",
              "7   [Tomatillo Red Chili Salsa, [Fajita Vegetables...    $11.75   \n",
              "8   [Tomatillo Green Chili Salsa, [Pinto Beans, Ch...     $9.25   \n",
              "9   [Fresh Tomato Salsa, [Rice, Black Beans, Pinto...     $9.25   \n",
              "10                                                NaN     $4.45   \n",
              "11  [Roasted Chili Corn Salsa, [Fajita Vegetables,...     $8.75   \n",
              "12  [Roasted Chili Corn Salsa, [Rice, Black Beans,...     $8.75   \n",
              "13  [Fresh Tomato Salsa, [Fajita Vegetables, Rice,...    $11.25   \n",
              "14                                                NaN     $4.45   \n",
              "15                                                NaN     $2.39   \n",
              "16  [Tomatillo-Green Chili Salsa (Medium), [Pinto ...     $8.49   \n",
              "17  [Fresh Tomato Salsa (Mild), [Black Beans, Rice...     $8.49   \n",
              "18                                           [Sprite]     $2.18   \n",
              "19  [Tomatillo Red Chili Salsa, [Fajita Vegetables...     $8.75   "
            ],
            "text/html": [
              "\n",
              "  <div id=\"df-135d8a43-0bd2-44c6-8afc-6652776baffa\" class=\"colab-df-container\">\n",
              "    <div>\n",
              "<style scoped>\n",
              "    .dataframe tbody tr th:only-of-type {\n",
              "        vertical-align: middle;\n",
              "    }\n",
              "\n",
              "    .dataframe tbody tr th {\n",
              "        vertical-align: top;\n",
              "    }\n",
              "\n",
              "    .dataframe thead th {\n",
              "        text-align: right;\n",
              "    }\n",
              "</style>\n",
              "<table border=\"1\" class=\"dataframe\">\n",
              "  <thead>\n",
              "    <tr style=\"text-align: right;\">\n",
              "      <th></th>\n",
              "      <th>order_id</th>\n",
              "      <th>quantity</th>\n",
              "      <th>item_name</th>\n",
              "      <th>choice_description</th>\n",
              "      <th>item_price</th>\n",
              "    </tr>\n",
              "  </thead>\n",
              "  <tbody>\n",
              "    <tr>\n",
              "      <th>0</th>\n",
              "      <td>1</td>\n",
              "      <td>1</td>\n",
              "      <td>Chips and Fresh Tomato Salsa</td>\n",
              "      <td>NaN</td>\n",
              "      <td>$2.39</td>\n",
              "    </tr>\n",
              "    <tr>\n",
              "      <th>1</th>\n",
              "      <td>1</td>\n",
              "      <td>1</td>\n",
              "      <td>Izze</td>\n",
              "      <td>[Clementine]</td>\n",
              "      <td>$3.39</td>\n",
              "    </tr>\n",
              "    <tr>\n",
              "      <th>2</th>\n",
              "      <td>1</td>\n",
              "      <td>1</td>\n",
              "      <td>Nantucket Nectar</td>\n",
              "      <td>[Apple]</td>\n",
              "      <td>$3.39</td>\n",
              "    </tr>\n",
              "    <tr>\n",
              "      <th>3</th>\n",
              "      <td>1</td>\n",
              "      <td>1</td>\n",
              "      <td>Chips and Tomatillo-Green Chili Salsa</td>\n",
              "      <td>NaN</td>\n",
              "      <td>$2.39</td>\n",
              "    </tr>\n",
              "    <tr>\n",
              "      <th>4</th>\n",
              "      <td>2</td>\n",
              "      <td>2</td>\n",
              "      <td>Chicken Bowl</td>\n",
              "      <td>[Tomatillo-Red Chili Salsa (Hot), [Black Beans...</td>\n",
              "      <td>$16.98</td>\n",
              "    </tr>\n",
              "    <tr>\n",
              "      <th>5</th>\n",
              "      <td>3</td>\n",
              "      <td>1</td>\n",
              "      <td>Chicken Bowl</td>\n",
              "      <td>[Fresh Tomato Salsa (Mild), [Rice, Cheese, Sou...</td>\n",
              "      <td>$10.98</td>\n",
              "    </tr>\n",
              "    <tr>\n",
              "      <th>6</th>\n",
              "      <td>3</td>\n",
              "      <td>1</td>\n",
              "      <td>Side of Chips</td>\n",
              "      <td>NaN</td>\n",
              "      <td>$1.69</td>\n",
              "    </tr>\n",
              "    <tr>\n",
              "      <th>7</th>\n",
              "      <td>4</td>\n",
              "      <td>1</td>\n",
              "      <td>Steak Burrito</td>\n",
              "      <td>[Tomatillo Red Chili Salsa, [Fajita Vegetables...</td>\n",
              "      <td>$11.75</td>\n",
              "    </tr>\n",
              "    <tr>\n",
              "      <th>8</th>\n",
              "      <td>4</td>\n",
              "      <td>1</td>\n",
              "      <td>Steak Soft Tacos</td>\n",
              "      <td>[Tomatillo Green Chili Salsa, [Pinto Beans, Ch...</td>\n",
              "      <td>$9.25</td>\n",
              "    </tr>\n",
              "    <tr>\n",
              "      <th>9</th>\n",
              "      <td>5</td>\n",
              "      <td>1</td>\n",
              "      <td>Steak Burrito</td>\n",
              "      <td>[Fresh Tomato Salsa, [Rice, Black Beans, Pinto...</td>\n",
              "      <td>$9.25</td>\n",
              "    </tr>\n",
              "    <tr>\n",
              "      <th>10</th>\n",
              "      <td>5</td>\n",
              "      <td>1</td>\n",
              "      <td>Chips and Guacamole</td>\n",
              "      <td>NaN</td>\n",
              "      <td>$4.45</td>\n",
              "    </tr>\n",
              "    <tr>\n",
              "      <th>11</th>\n",
              "      <td>6</td>\n",
              "      <td>1</td>\n",
              "      <td>Chicken Crispy Tacos</td>\n",
              "      <td>[Roasted Chili Corn Salsa, [Fajita Vegetables,...</td>\n",
              "      <td>$8.75</td>\n",
              "    </tr>\n",
              "    <tr>\n",
              "      <th>12</th>\n",
              "      <td>6</td>\n",
              "      <td>1</td>\n",
              "      <td>Chicken Soft Tacos</td>\n",
              "      <td>[Roasted Chili Corn Salsa, [Rice, Black Beans,...</td>\n",
              "      <td>$8.75</td>\n",
              "    </tr>\n",
              "    <tr>\n",
              "      <th>13</th>\n",
              "      <td>7</td>\n",
              "      <td>1</td>\n",
              "      <td>Chicken Bowl</td>\n",
              "      <td>[Fresh Tomato Salsa, [Fajita Vegetables, Rice,...</td>\n",
              "      <td>$11.25</td>\n",
              "    </tr>\n",
              "    <tr>\n",
              "      <th>14</th>\n",
              "      <td>7</td>\n",
              "      <td>1</td>\n",
              "      <td>Chips and Guacamole</td>\n",
              "      <td>NaN</td>\n",
              "      <td>$4.45</td>\n",
              "    </tr>\n",
              "    <tr>\n",
              "      <th>15</th>\n",
              "      <td>8</td>\n",
              "      <td>1</td>\n",
              "      <td>Chips and Tomatillo-Green Chili Salsa</td>\n",
              "      <td>NaN</td>\n",
              "      <td>$2.39</td>\n",
              "    </tr>\n",
              "    <tr>\n",
              "      <th>16</th>\n",
              "      <td>8</td>\n",
              "      <td>1</td>\n",
              "      <td>Chicken Burrito</td>\n",
              "      <td>[Tomatillo-Green Chili Salsa (Medium), [Pinto ...</td>\n",
              "      <td>$8.49</td>\n",
              "    </tr>\n",
              "    <tr>\n",
              "      <th>17</th>\n",
              "      <td>9</td>\n",
              "      <td>1</td>\n",
              "      <td>Chicken Burrito</td>\n",
              "      <td>[Fresh Tomato Salsa (Mild), [Black Beans, Rice...</td>\n",
              "      <td>$8.49</td>\n",
              "    </tr>\n",
              "    <tr>\n",
              "      <th>18</th>\n",
              "      <td>9</td>\n",
              "      <td>2</td>\n",
              "      <td>Canned Soda</td>\n",
              "      <td>[Sprite]</td>\n",
              "      <td>$2.18</td>\n",
              "    </tr>\n",
              "    <tr>\n",
              "      <th>19</th>\n",
              "      <td>10</td>\n",
              "      <td>1</td>\n",
              "      <td>Chicken Bowl</td>\n",
              "      <td>[Tomatillo Red Chili Salsa, [Fajita Vegetables...</td>\n",
              "      <td>$8.75</td>\n",
              "    </tr>\n",
              "  </tbody>\n",
              "</table>\n",
              "</div>\n",
              "    <div class=\"colab-df-buttons\">\n",
              "\n",
              "  <div class=\"colab-df-container\">\n",
              "    <button class=\"colab-df-convert\" onclick=\"convertToInteractive('df-135d8a43-0bd2-44c6-8afc-6652776baffa')\"\n",
              "            title=\"Convert this dataframe to an interactive table.\"\n",
              "            style=\"display:none;\">\n",
              "\n",
              "  <svg xmlns=\"http://www.w3.org/2000/svg\" height=\"24px\" viewBox=\"0 -960 960 960\">\n",
              "    <path d=\"M120-120v-720h720v720H120Zm60-500h600v-160H180v160Zm220 220h160v-160H400v160Zm0 220h160v-160H400v160ZM180-400h160v-160H180v160Zm440 0h160v-160H620v160ZM180-180h160v-160H180v160Zm440 0h160v-160H620v160Z\"/>\n",
              "  </svg>\n",
              "    </button>\n",
              "\n",
              "  <style>\n",
              "    .colab-df-container {\n",
              "      display:flex;\n",
              "      gap: 12px;\n",
              "    }\n",
              "\n",
              "    .colab-df-convert {\n",
              "      background-color: #E8F0FE;\n",
              "      border: none;\n",
              "      border-radius: 50%;\n",
              "      cursor: pointer;\n",
              "      display: none;\n",
              "      fill: #1967D2;\n",
              "      height: 32px;\n",
              "      padding: 0 0 0 0;\n",
              "      width: 32px;\n",
              "    }\n",
              "\n",
              "    .colab-df-convert:hover {\n",
              "      background-color: #E2EBFA;\n",
              "      box-shadow: 0px 1px 2px rgba(60, 64, 67, 0.3), 0px 1px 3px 1px rgba(60, 64, 67, 0.15);\n",
              "      fill: #174EA6;\n",
              "    }\n",
              "\n",
              "    .colab-df-buttons div {\n",
              "      margin-bottom: 4px;\n",
              "    }\n",
              "\n",
              "    [theme=dark] .colab-df-convert {\n",
              "      background-color: #3B4455;\n",
              "      fill: #D2E3FC;\n",
              "    }\n",
              "\n",
              "    [theme=dark] .colab-df-convert:hover {\n",
              "      background-color: #434B5C;\n",
              "      box-shadow: 0px 1px 3px 1px rgba(0, 0, 0, 0.15);\n",
              "      filter: drop-shadow(0px 1px 2px rgba(0, 0, 0, 0.3));\n",
              "      fill: #FFFFFF;\n",
              "    }\n",
              "  </style>\n",
              "\n",
              "    <script>\n",
              "      const buttonEl =\n",
              "        document.querySelector('#df-135d8a43-0bd2-44c6-8afc-6652776baffa button.colab-df-convert');\n",
              "      buttonEl.style.display =\n",
              "        google.colab.kernel.accessAllowed ? 'block' : 'none';\n",
              "\n",
              "      async function convertToInteractive(key) {\n",
              "        const element = document.querySelector('#df-135d8a43-0bd2-44c6-8afc-6652776baffa');\n",
              "        const dataTable =\n",
              "          await google.colab.kernel.invokeFunction('convertToInteractive',\n",
              "                                                    [key], {});\n",
              "        if (!dataTable) return;\n",
              "\n",
              "        const docLinkHtml = 'Like what you see? Visit the ' +\n",
              "          '<a target=\"_blank\" href=https://colab.research.google.com/notebooks/data_table.ipynb>data table notebook</a>'\n",
              "          + ' to learn more about interactive tables.';\n",
              "        element.innerHTML = '';\n",
              "        dataTable['output_type'] = 'display_data';\n",
              "        await google.colab.output.renderOutput(dataTable, element);\n",
              "        const docLink = document.createElement('div');\n",
              "        docLink.innerHTML = docLinkHtml;\n",
              "        element.appendChild(docLink);\n",
              "      }\n",
              "    </script>\n",
              "  </div>\n",
              "\n",
              "\n",
              "<div id=\"df-20163e3d-ddcf-481b-9bee-1952ce9d350c\">\n",
              "  <button class=\"colab-df-quickchart\" onclick=\"quickchart('df-20163e3d-ddcf-481b-9bee-1952ce9d350c')\"\n",
              "            title=\"Suggest charts.\"\n",
              "            style=\"display:none;\">\n",
              "\n",
              "<svg xmlns=\"http://www.w3.org/2000/svg\" height=\"24px\"viewBox=\"0 0 24 24\"\n",
              "     width=\"24px\">\n",
              "    <g>\n",
              "        <path d=\"M19 3H5c-1.1 0-2 .9-2 2v14c0 1.1.9 2 2 2h14c1.1 0 2-.9 2-2V5c0-1.1-.9-2-2-2zM9 17H7v-7h2v7zm4 0h-2V7h2v10zm4 0h-2v-4h2v4z\"/>\n",
              "    </g>\n",
              "</svg>\n",
              "  </button>\n",
              "\n",
              "<style>\n",
              "  .colab-df-quickchart {\n",
              "    background-color: #E8F0FE;\n",
              "    border: none;\n",
              "    border-radius: 50%;\n",
              "    cursor: pointer;\n",
              "    display: none;\n",
              "    fill: #1967D2;\n",
              "    height: 32px;\n",
              "    padding: 0 0 0 0;\n",
              "    width: 32px;\n",
              "  }\n",
              "\n",
              "  .colab-df-quickchart:hover {\n",
              "    background-color: #E2EBFA;\n",
              "    box-shadow: 0px 1px 2px rgba(60, 64, 67, 0.3), 0px 1px 3px 1px rgba(60, 64, 67, 0.15);\n",
              "    fill: #174EA6;\n",
              "  }\n",
              "\n",
              "  [theme=dark] .colab-df-quickchart {\n",
              "    background-color: #3B4455;\n",
              "    fill: #D2E3FC;\n",
              "  }\n",
              "\n",
              "  [theme=dark] .colab-df-quickchart:hover {\n",
              "    background-color: #434B5C;\n",
              "    box-shadow: 0px 1px 3px 1px rgba(0, 0, 0, 0.15);\n",
              "    filter: drop-shadow(0px 1px 2px rgba(0, 0, 0, 0.3));\n",
              "    fill: #FFFFFF;\n",
              "  }\n",
              "</style>\n",
              "\n",
              "  <script>\n",
              "    async function quickchart(key) {\n",
              "      const charts = await google.colab.kernel.invokeFunction(\n",
              "          'suggestCharts', [key], {});\n",
              "    }\n",
              "    (() => {\n",
              "      let quickchartButtonEl =\n",
              "        document.querySelector('#df-20163e3d-ddcf-481b-9bee-1952ce9d350c button');\n",
              "      quickchartButtonEl.style.display =\n",
              "        google.colab.kernel.accessAllowed ? 'block' : 'none';\n",
              "    })();\n",
              "  </script>\n",
              "</div>\n",
              "    </div>\n",
              "  </div>\n"
            ]
          },
          "metadata": {},
          "execution_count": 63
        }
      ]
    },
    {
      "cell_type": "code",
      "source": [
        "#df['choice_description'] = df['choice_description'].str.strip('[').str.split(', ')\n",
        "#df = df.explode('choice_description')"
      ],
      "metadata": {
        "id": "YATD5pNYZK2P"
      },
      "execution_count": 64,
      "outputs": []
    },
    {
      "cell_type": "code",
      "source": [
        "df.choice_description[2:200]"
      ],
      "metadata": {
        "colab": {
          "base_uri": "https://localhost:8080/"
        },
        "id": "dlbD6T3kjOsJ",
        "outputId": "a1b82fdf-5623-4f03-92aa-62841feb2c79"
      },
      "execution_count": 65,
      "outputs": [
        {
          "output_type": "execute_result",
          "data": {
            "text/plain": [
              "2                                                [Apple]\n",
              "3                                                    NaN\n",
              "4      [Tomatillo-Red Chili Salsa (Hot), [Black Beans...\n",
              "5      [Fresh Tomato Salsa (Mild), [Rice, Cheese, Sou...\n",
              "6                                                    NaN\n",
              "                             ...                        \n",
              "195                                          [Coca Cola]\n",
              "196    [Roasted Chili Corn Salsa (Medium), [Rice, Bla...\n",
              "197    [Tomatillo-Green Chili Salsa (Medium), [Pinto ...\n",
              "198                                                  NaN\n",
              "199    [[Roasted Chili Corn Salsa (Medium), Tomatillo...\n",
              "Name: choice_description, Length: 198, dtype: object"
            ]
          },
          "metadata": {},
          "execution_count": 65
        }
      ]
    },
    {
      "cell_type": "markdown",
      "source": [
        "Challenge:https://d-i-motion.com/lessons/challenge-1-chipotle-sales/\n",
        "\n",
        "Dataset:https://raw.githubusercontent.com/justmarkham/DAT8/master/data/chipotle.tsv\n",
        "\n",
        "\n",
        "Which was the most-ordered item?  Chicken Bowl\n",
        "\n",
        "For the most-ordered item, how many items were ordered?  761\n",
        "\n",
        "What was the most ordered item in the choice_description column? Rice\n",
        "\n",
        "How many items were ordered in total?4622\n",
        "\n",
        "Turn the item price into a float\n",
        "\n",
        "How much was the revenue for the period in the dataset?$34560.16\n",
        "\n",
        "How many orders were made in the period?1834\n",
        "\n",
        "What is the average revenue amount per order? $18.8441439476554\n",
        "\n",
        "How many different items are sold?50"
      ],
      "metadata": {
        "id": "LPIdsQZzlJUQ"
      }
    },
    {
      "cell_type": "code",
      "source": [
        "df.head(2)"
      ],
      "metadata": {
        "id": "_qt2WIiQk_21",
        "colab": {
          "base_uri": "https://localhost:8080/",
          "height": 112
        },
        "outputId": "2582ba01-6bd4-4d68-9815-3dd8800261b7"
      },
      "execution_count": 66,
      "outputs": [
        {
          "output_type": "execute_result",
          "data": {
            "text/plain": [
              "   order_id  quantity                     item_name choice_description  \\\n",
              "0         1         1  Chips and Fresh Tomato Salsa                NaN   \n",
              "1         1         1                          Izze       [Clementine]   \n",
              "\n",
              "  item_price  \n",
              "0     $2.39   \n",
              "1     $3.39   "
            ],
            "text/html": [
              "\n",
              "  <div id=\"df-0b969f03-1b44-471c-a651-5fe1ff6fd62d\" class=\"colab-df-container\">\n",
              "    <div>\n",
              "<style scoped>\n",
              "    .dataframe tbody tr th:only-of-type {\n",
              "        vertical-align: middle;\n",
              "    }\n",
              "\n",
              "    .dataframe tbody tr th {\n",
              "        vertical-align: top;\n",
              "    }\n",
              "\n",
              "    .dataframe thead th {\n",
              "        text-align: right;\n",
              "    }\n",
              "</style>\n",
              "<table border=\"1\" class=\"dataframe\">\n",
              "  <thead>\n",
              "    <tr style=\"text-align: right;\">\n",
              "      <th></th>\n",
              "      <th>order_id</th>\n",
              "      <th>quantity</th>\n",
              "      <th>item_name</th>\n",
              "      <th>choice_description</th>\n",
              "      <th>item_price</th>\n",
              "    </tr>\n",
              "  </thead>\n",
              "  <tbody>\n",
              "    <tr>\n",
              "      <th>0</th>\n",
              "      <td>1</td>\n",
              "      <td>1</td>\n",
              "      <td>Chips and Fresh Tomato Salsa</td>\n",
              "      <td>NaN</td>\n",
              "      <td>$2.39</td>\n",
              "    </tr>\n",
              "    <tr>\n",
              "      <th>1</th>\n",
              "      <td>1</td>\n",
              "      <td>1</td>\n",
              "      <td>Izze</td>\n",
              "      <td>[Clementine]</td>\n",
              "      <td>$3.39</td>\n",
              "    </tr>\n",
              "  </tbody>\n",
              "</table>\n",
              "</div>\n",
              "    <div class=\"colab-df-buttons\">\n",
              "\n",
              "  <div class=\"colab-df-container\">\n",
              "    <button class=\"colab-df-convert\" onclick=\"convertToInteractive('df-0b969f03-1b44-471c-a651-5fe1ff6fd62d')\"\n",
              "            title=\"Convert this dataframe to an interactive table.\"\n",
              "            style=\"display:none;\">\n",
              "\n",
              "  <svg xmlns=\"http://www.w3.org/2000/svg\" height=\"24px\" viewBox=\"0 -960 960 960\">\n",
              "    <path d=\"M120-120v-720h720v720H120Zm60-500h600v-160H180v160Zm220 220h160v-160H400v160Zm0 220h160v-160H400v160ZM180-400h160v-160H180v160Zm440 0h160v-160H620v160ZM180-180h160v-160H180v160Zm440 0h160v-160H620v160Z\"/>\n",
              "  </svg>\n",
              "    </button>\n",
              "\n",
              "  <style>\n",
              "    .colab-df-container {\n",
              "      display:flex;\n",
              "      gap: 12px;\n",
              "    }\n",
              "\n",
              "    .colab-df-convert {\n",
              "      background-color: #E8F0FE;\n",
              "      border: none;\n",
              "      border-radius: 50%;\n",
              "      cursor: pointer;\n",
              "      display: none;\n",
              "      fill: #1967D2;\n",
              "      height: 32px;\n",
              "      padding: 0 0 0 0;\n",
              "      width: 32px;\n",
              "    }\n",
              "\n",
              "    .colab-df-convert:hover {\n",
              "      background-color: #E2EBFA;\n",
              "      box-shadow: 0px 1px 2px rgba(60, 64, 67, 0.3), 0px 1px 3px 1px rgba(60, 64, 67, 0.15);\n",
              "      fill: #174EA6;\n",
              "    }\n",
              "\n",
              "    .colab-df-buttons div {\n",
              "      margin-bottom: 4px;\n",
              "    }\n",
              "\n",
              "    [theme=dark] .colab-df-convert {\n",
              "      background-color: #3B4455;\n",
              "      fill: #D2E3FC;\n",
              "    }\n",
              "\n",
              "    [theme=dark] .colab-df-convert:hover {\n",
              "      background-color: #434B5C;\n",
              "      box-shadow: 0px 1px 3px 1px rgba(0, 0, 0, 0.15);\n",
              "      filter: drop-shadow(0px 1px 2px rgba(0, 0, 0, 0.3));\n",
              "      fill: #FFFFFF;\n",
              "    }\n",
              "  </style>\n",
              "\n",
              "    <script>\n",
              "      const buttonEl =\n",
              "        document.querySelector('#df-0b969f03-1b44-471c-a651-5fe1ff6fd62d button.colab-df-convert');\n",
              "      buttonEl.style.display =\n",
              "        google.colab.kernel.accessAllowed ? 'block' : 'none';\n",
              "\n",
              "      async function convertToInteractive(key) {\n",
              "        const element = document.querySelector('#df-0b969f03-1b44-471c-a651-5fe1ff6fd62d');\n",
              "        const dataTable =\n",
              "          await google.colab.kernel.invokeFunction('convertToInteractive',\n",
              "                                                    [key], {});\n",
              "        if (!dataTable) return;\n",
              "\n",
              "        const docLinkHtml = 'Like what you see? Visit the ' +\n",
              "          '<a target=\"_blank\" href=https://colab.research.google.com/notebooks/data_table.ipynb>data table notebook</a>'\n",
              "          + ' to learn more about interactive tables.';\n",
              "        element.innerHTML = '';\n",
              "        dataTable['output_type'] = 'display_data';\n",
              "        await google.colab.output.renderOutput(dataTable, element);\n",
              "        const docLink = document.createElement('div');\n",
              "        docLink.innerHTML = docLinkHtml;\n",
              "        element.appendChild(docLink);\n",
              "      }\n",
              "    </script>\n",
              "  </div>\n",
              "\n",
              "\n",
              "<div id=\"df-5355b37e-1ecd-40ad-adb8-63dad0621df9\">\n",
              "  <button class=\"colab-df-quickchart\" onclick=\"quickchart('df-5355b37e-1ecd-40ad-adb8-63dad0621df9')\"\n",
              "            title=\"Suggest charts.\"\n",
              "            style=\"display:none;\">\n",
              "\n",
              "<svg xmlns=\"http://www.w3.org/2000/svg\" height=\"24px\"viewBox=\"0 0 24 24\"\n",
              "     width=\"24px\">\n",
              "    <g>\n",
              "        <path d=\"M19 3H5c-1.1 0-2 .9-2 2v14c0 1.1.9 2 2 2h14c1.1 0 2-.9 2-2V5c0-1.1-.9-2-2-2zM9 17H7v-7h2v7zm4 0h-2V7h2v10zm4 0h-2v-4h2v4z\"/>\n",
              "    </g>\n",
              "</svg>\n",
              "  </button>\n",
              "\n",
              "<style>\n",
              "  .colab-df-quickchart {\n",
              "    background-color: #E8F0FE;\n",
              "    border: none;\n",
              "    border-radius: 50%;\n",
              "    cursor: pointer;\n",
              "    display: none;\n",
              "    fill: #1967D2;\n",
              "    height: 32px;\n",
              "    padding: 0 0 0 0;\n",
              "    width: 32px;\n",
              "  }\n",
              "\n",
              "  .colab-df-quickchart:hover {\n",
              "    background-color: #E2EBFA;\n",
              "    box-shadow: 0px 1px 2px rgba(60, 64, 67, 0.3), 0px 1px 3px 1px rgba(60, 64, 67, 0.15);\n",
              "    fill: #174EA6;\n",
              "  }\n",
              "\n",
              "  [theme=dark] .colab-df-quickchart {\n",
              "    background-color: #3B4455;\n",
              "    fill: #D2E3FC;\n",
              "  }\n",
              "\n",
              "  [theme=dark] .colab-df-quickchart:hover {\n",
              "    background-color: #434B5C;\n",
              "    box-shadow: 0px 1px 3px 1px rgba(0, 0, 0, 0.15);\n",
              "    filter: drop-shadow(0px 1px 2px rgba(0, 0, 0, 0.3));\n",
              "    fill: #FFFFFF;\n",
              "  }\n",
              "</style>\n",
              "\n",
              "  <script>\n",
              "    async function quickchart(key) {\n",
              "      const charts = await google.colab.kernel.invokeFunction(\n",
              "          'suggestCharts', [key], {});\n",
              "    }\n",
              "    (() => {\n",
              "      let quickchartButtonEl =\n",
              "        document.querySelector('#df-5355b37e-1ecd-40ad-adb8-63dad0621df9 button');\n",
              "      quickchartButtonEl.style.display =\n",
              "        google.colab.kernel.accessAllowed ? 'block' : 'none';\n",
              "    })();\n",
              "  </script>\n",
              "</div>\n",
              "    </div>\n",
              "  </div>\n"
            ]
          },
          "metadata": {},
          "execution_count": 66
        }
      ]
    },
    {
      "cell_type": "markdown",
      "source": [
        "1.Which was the most-ordered item?  Chicken Bowl\n",
        "\n",
        "2.For the most-ordered item, how many items were ordered?761"
      ],
      "metadata": {
        "id": "an0GeCOejbm2"
      }
    },
    {
      "cell_type": "code",
      "source": [
        "df.quantity.unique()"
      ],
      "metadata": {
        "colab": {
          "base_uri": "https://localhost:8080/"
        },
        "id": "uAQ7wLZLuCaN",
        "outputId": "acedbad5-10c6-4811-c209-551afdf85836"
      },
      "execution_count": 67,
      "outputs": [
        {
          "output_type": "execute_result",
          "data": {
            "text/plain": [
              "array([ 1,  2,  3,  4,  5, 15,  7,  8, 10])"
            ]
          },
          "metadata": {},
          "execution_count": 67
        }
      ]
    },
    {
      "cell_type": "code",
      "source": [
        "g=df.groupby('item_name')"
      ],
      "metadata": {
        "id": "Qiu13c8RuJ_i"
      },
      "execution_count": 68,
      "outputs": []
    },
    {
      "cell_type": "code",
      "source": [
        "print(g['quantity'].sum().max())\n"
      ],
      "metadata": {
        "colab": {
          "base_uri": "https://localhost:8080/"
        },
        "id": "hLQHBMcFup77",
        "outputId": "65866037-5381-40a7-fecf-2bcfe1eedb86"
      },
      "execution_count": 69,
      "outputs": [
        {
          "output_type": "stream",
          "name": "stdout",
          "text": [
            "761\n"
          ]
        }
      ]
    },
    {
      "cell_type": "code",
      "source": [
        "g['quantity'].sum()"
      ],
      "metadata": {
        "colab": {
          "base_uri": "https://localhost:8080/"
        },
        "id": "g9YxjBD4zdQ2",
        "outputId": "d9299721-24d4-4658-b766-b0ebb94605ae"
      },
      "execution_count": 70,
      "outputs": [
        {
          "output_type": "execute_result",
          "data": {
            "text/plain": [
              "item_name\n",
              "6 Pack Soft Drink                         55\n",
              "Barbacoa Bowl                             66\n",
              "Barbacoa Burrito                          91\n",
              "Barbacoa Crispy Tacos                     12\n",
              "Barbacoa Salad Bowl                       10\n",
              "Barbacoa Soft Tacos                       25\n",
              "Bottled Water                            211\n",
              "Bowl                                       4\n",
              "Burrito                                    6\n",
              "Canned Soda                              126\n",
              "Canned Soft Drink                        351\n",
              "Carnitas Bowl                             71\n",
              "Carnitas Burrito                          60\n",
              "Carnitas Crispy Tacos                      8\n",
              "Carnitas Salad                             1\n",
              "Carnitas Salad Bowl                        6\n",
              "Carnitas Soft Tacos                       40\n",
              "Chicken Bowl                             761\n",
              "Chicken Burrito                          591\n",
              "Chicken Crispy Tacos                      50\n",
              "Chicken Salad                              9\n",
              "Chicken Salad Bowl                       123\n",
              "Chicken Soft Tacos                       120\n",
              "Chips                                    230\n",
              "Chips and Fresh Tomato Salsa             130\n",
              "Chips and Guacamole                      506\n",
              "Chips and Mild Fresh Tomato Salsa          1\n",
              "Chips and Roasted Chili Corn Salsa        23\n",
              "Chips and Roasted Chili-Corn Salsa        18\n",
              "Chips and Tomatillo Green Chili Salsa     45\n",
              "Chips and Tomatillo Red Chili Salsa       50\n",
              "Chips and Tomatillo-Green Chili Salsa     33\n",
              "Chips and Tomatillo-Red Chili Salsa       25\n",
              "Crispy Tacos                               2\n",
              "Izze                                      20\n",
              "Nantucket Nectar                          29\n",
              "Salad                                      2\n",
              "Side of Chips                            110\n",
              "Steak Bowl                               221\n",
              "Steak Burrito                            386\n",
              "Steak Crispy Tacos                        36\n",
              "Steak Salad                                4\n",
              "Steak Salad Bowl                          31\n",
              "Steak Soft Tacos                          56\n",
              "Veggie Bowl                               87\n",
              "Veggie Burrito                            97\n",
              "Veggie Crispy Tacos                        1\n",
              "Veggie Salad                               6\n",
              "Veggie Salad Bowl                         18\n",
              "Veggie Soft Tacos                          8\n",
              "Name: quantity, dtype: int64"
            ]
          },
          "metadata": {},
          "execution_count": 70
        }
      ]
    },
    {
      "cell_type": "code",
      "source": [
        "\n",
        " plt.bar([d for d,total in g],g['quantity'].sum())\n",
        " plt.xticks([d for d,total in g],rotation='vertical',size=8)\n",
        " plt.show()"
      ],
      "metadata": {
        "colab": {
          "base_uri": "https://localhost:8080/",
          "height": 624
        },
        "id": "aRBmQLHbuuwZ",
        "outputId": "6a662610-bbd9-4d81-f86d-fdbde7c81b84"
      },
      "execution_count": 71,
      "outputs": [
        {
          "output_type": "display_data",
          "data": {
            "text/plain": [
              "<Figure size 640x480 with 1 Axes>"
            ],
            "image/png": "[encoded data removed]"
          },
          "metadata": {}
        }
      ]
    },
    {
      "cell_type": "code",
      "source": [
        "#df[df['item_name']=='Chicken Bowl']['choice_description'].unique()"
      ],
      "metadata": {
        "id": "tBvRMJlSwD5J"
      },
      "execution_count": 72,
      "outputs": []
    },
    {
      "cell_type": "markdown",
      "source": [
        "What was the most ordered item in the choice_description column?  Rice"
      ],
      "metadata": {
        "id": "Fz7YJKK52a7f"
      }
    },
    {
      "cell_type": "code",
      "source": [
        "df['choice_description']"
      ],
      "metadata": {
        "colab": {
          "base_uri": "https://localhost:8080/"
        },
        "id": "AF1N5BJ51HQv",
        "outputId": "ca09de0f-3aba-4d31-8dd7-1d22a03eec52"
      },
      "execution_count": 73,
      "outputs": [
        {
          "output_type": "execute_result",
          "data": {
            "text/plain": [
              "0                                                     NaN\n",
              "1                                            [Clementine]\n",
              "2                                                 [Apple]\n",
              "3                                                     NaN\n",
              "4       [Tomatillo-Red Chili Salsa (Hot), [Black Beans...\n",
              "                              ...                        \n",
              "4617    [Fresh Tomato Salsa, [Rice, Black Beans, Sour ...\n",
              "4618    [Fresh Tomato Salsa, [Rice, Sour Cream, Cheese...\n",
              "4619    [Fresh Tomato Salsa, [Fajita Vegetables, Pinto...\n",
              "4620    [Fresh Tomato Salsa, [Fajita Vegetables, Lettu...\n",
              "4621    [Fresh Tomato Salsa, [Fajita Vegetables, Pinto...\n",
              "Name: choice_description, Length: 4622, dtype: object"
            ]
          },
          "metadata": {},
          "execution_count": 73
        }
      ]
    },
    {
      "cell_type": "code",
      "source": [
        "df_new=pd.DataFrame()\n",
        "df_new[['item_name','choice_description']]=df[['item_name','choice_description']]\n",
        "df_new['choice_description'] = df_new['choice_description'].str.strip('[]').str.split(', ')\n",
        "df_new = df_new.explode('choice_description')"
      ],
      "metadata": {
        "id": "Gn7TNH_9wHAt"
      },
      "execution_count": 74,
      "outputs": []
    },
    {
      "cell_type": "code",
      "source": [
        "df_new['choice_description']=df_new['choice_description'].str.strip('[]')"
      ],
      "metadata": {
        "id": "JqDrIUj5Zco7"
      },
      "execution_count": 75,
      "outputs": []
    },
    {
      "cell_type": "code",
      "source": [
        "df_new.head(20)"
      ],
      "metadata": {
        "colab": {
          "base_uri": "https://localhost:8080/",
          "height": 677
        },
        "id": "rlDtCB5zaC14",
        "outputId": "d8870b91-7be2-4829-d0a2-8bcfec4bd4bc"
      },
      "execution_count": 76,
      "outputs": [
        {
          "output_type": "execute_result",
          "data": {
            "text/plain": [
              "                               item_name               choice_description\n",
              "0           Chips and Fresh Tomato Salsa                              NaN\n",
              "1                                   Izze                       Clementine\n",
              "2                       Nantucket Nectar                            Apple\n",
              "3  Chips and Tomatillo-Green Chili Salsa                              NaN\n",
              "4                           Chicken Bowl  Tomatillo-Red Chili Salsa (Hot)\n",
              "4                           Chicken Bowl                      Black Beans\n",
              "4                           Chicken Bowl                             Rice\n",
              "4                           Chicken Bowl                           Cheese\n",
              "4                           Chicken Bowl                       Sour Cream\n",
              "5                           Chicken Bowl        Fresh Tomato Salsa (Mild)\n",
              "5                           Chicken Bowl                             Rice\n",
              "5                           Chicken Bowl                           Cheese\n",
              "5                           Chicken Bowl                       Sour Cream\n",
              "5                           Chicken Bowl                        Guacamole\n",
              "5                           Chicken Bowl                          Lettuce\n",
              "6                          Side of Chips                              NaN\n",
              "7                          Steak Burrito        Tomatillo Red Chili Salsa\n",
              "7                          Steak Burrito                Fajita Vegetables\n",
              "7                          Steak Burrito                      Black Beans\n",
              "7                          Steak Burrito                      Pinto Beans"
            ],
            "text/html": [
              "\n",
              "  <div id=\"df-9b040c5a-d104-48fa-9cf9-1b5e7ff3f31e\" class=\"colab-df-container\">\n",
              "    <div>\n",
              "<style scoped>\n",
              "    .dataframe tbody tr th:only-of-type {\n",
              "        vertical-align: middle;\n",
              "    }\n",
              "\n",
              "    .dataframe tbody tr th {\n",
              "        vertical-align: top;\n",
              "    }\n",
              "\n",
              "    .dataframe thead th {\n",
              "        text-align: right;\n",
              "    }\n",
              "</style>\n",
              "<table border=\"1\" class=\"dataframe\">\n",
              "  <thead>\n",
              "    <tr style=\"text-align: right;\">\n",
              "      <th></th>\n",
              "      <th>item_name</th>\n",
              "      <th>choice_description</th>\n",
              "    </tr>\n",
              "  </thead>\n",
              "  <tbody>\n",
              "    <tr>\n",
              "      <th>0</th>\n",
              "      <td>Chips and Fresh Tomato Salsa</td>\n",
              "      <td>NaN</td>\n",
              "    </tr>\n",
              "    <tr>\n",
              "      <th>1</th>\n",
              "      <td>Izze</td>\n",
              "      <td>Clementine</td>\n",
              "    </tr>\n",
              "    <tr>\n",
              "      <th>2</th>\n",
              "      <td>Nantucket Nectar</td>\n",
              "      <td>Apple</td>\n",
              "    </tr>\n",
              "    <tr>\n",
              "      <th>3</th>\n",
              "      <td>Chips and Tomatillo-Green Chili Salsa</td>\n",
              "      <td>NaN</td>\n",
              "    </tr>\n",
              "    <tr>\n",
              "      <th>4</th>\n",
              "      <td>Chicken Bowl</td>\n",
              "      <td>Tomatillo-Red Chili Salsa (Hot)</td>\n",
              "    </tr>\n",
              "    <tr>\n",
              "      <th>4</th>\n",
              "      <td>Chicken Bowl</td>\n",
              "      <td>Black Beans</td>\n",
              "    </tr>\n",
              "    <tr>\n",
              "      <th>4</th>\n",
              "      <td>Chicken Bowl</td>\n",
              "      <td>Rice</td>\n",
              "    </tr>\n",
              "    <tr>\n",
              "      <th>4</th>\n",
              "      <td>Chicken Bowl</td>\n",
              "      <td>Cheese</td>\n",
              "    </tr>\n",
              "    <tr>\n",
              "      <th>4</th>\n",
              "      <td>Chicken Bowl</td>\n",
              "      <td>Sour Cream</td>\n",
              "    </tr>\n",
              "    <tr>\n",
              "      <th>5</th>\n",
              "      <td>Chicken Bowl</td>\n",
              "      <td>Fresh Tomato Salsa (Mild)</td>\n",
              "    </tr>\n",
              "    <tr>\n",
              "      <th>5</th>\n",
              "      <td>Chicken Bowl</td>\n",
              "      <td>Rice</td>\n",
              "    </tr>\n",
              "    <tr>\n",
              "      <th>5</th>\n",
              "      <td>Chicken Bowl</td>\n",
              "      <td>Cheese</td>\n",
              "    </tr>\n",
              "    <tr>\n",
              "      <th>5</th>\n",
              "      <td>Chicken Bowl</td>\n",
              "      <td>Sour Cream</td>\n",
              "    </tr>\n",
              "    <tr>\n",
              "      <th>5</th>\n",
              "      <td>Chicken Bowl</td>\n",
              "      <td>Guacamole</td>\n",
              "    </tr>\n",
              "    <tr>\n",
              "      <th>5</th>\n",
              "      <td>Chicken Bowl</td>\n",
              "      <td>Lettuce</td>\n",
              "    </tr>\n",
              "    <tr>\n",
              "      <th>6</th>\n",
              "      <td>Side of Chips</td>\n",
              "      <td>NaN</td>\n",
              "    </tr>\n",
              "    <tr>\n",
              "      <th>7</th>\n",
              "      <td>Steak Burrito</td>\n",
              "      <td>Tomatillo Red Chili Salsa</td>\n",
              "    </tr>\n",
              "    <tr>\n",
              "      <th>7</th>\n",
              "      <td>Steak Burrito</td>\n",
              "      <td>Fajita Vegetables</td>\n",
              "    </tr>\n",
              "    <tr>\n",
              "      <th>7</th>\n",
              "      <td>Steak Burrito</td>\n",
              "      <td>Black Beans</td>\n",
              "    </tr>\n",
              "    <tr>\n",
              "      <th>7</th>\n",
              "      <td>Steak Burrito</td>\n",
              "      <td>Pinto Beans</td>\n",
              "    </tr>\n",
              "  </tbody>\n",
              "</table>\n",
              "</div>\n",
              "    <div class=\"colab-df-buttons\">\n",
              "\n",
              "  <div class=\"colab-df-container\">\n",
              "    <button class=\"colab-df-convert\" onclick=\"convertToInteractive('df-9b040c5a-d104-48fa-9cf9-1b5e7ff3f31e')\"\n",
              "            title=\"Convert this dataframe to an interactive table.\"\n",
              "            style=\"display:none;\">\n",
              "\n",
              "  <svg xmlns=\"http://www.w3.org/2000/svg\" height=\"24px\" viewBox=\"0 -960 960 960\">\n",
              "    <path d=\"M120-120v-720h720v720H120Zm60-500h600v-160H180v160Zm220 220h160v-160H400v160Zm0 220h160v-160H400v160ZM180-400h160v-160H180v160Zm440 0h160v-160H620v160ZM180-180h160v-160H180v160Zm440 0h160v-160H620v160Z\"/>\n",
              "  </svg>\n",
              "    </button>\n",
              "\n",
              "  <style>\n",
              "    .colab-df-container {\n",
              "      display:flex;\n",
              "      gap: 12px;\n",
              "    }\n",
              "\n",
              "    .colab-df-convert {\n",
              "      background-color: #E8F0FE;\n",
              "      border: none;\n",
              "      border-radius: 50%;\n",
              "      cursor: pointer;\n",
              "      display: none;\n",
              "      fill: #1967D2;\n",
              "      height: 32px;\n",
              "      padding: 0 0 0 0;\n",
              "      width: 32px;\n",
              "    }\n",
              "\n",
              "    .colab-df-convert:hover {\n",
              "      background-color: #E2EBFA;\n",
              "      box-shadow: 0px 1px 2px rgba(60, 64, 67, 0.3), 0px 1px 3px 1px rgba(60, 64, 67, 0.15);\n",
              "      fill: #174EA6;\n",
              "    }\n",
              "\n",
              "    .colab-df-buttons div {\n",
              "      margin-bottom: 4px;\n",
              "    }\n",
              "\n",
              "    [theme=dark] .colab-df-convert {\n",
              "      background-color: #3B4455;\n",
              "      fill: #D2E3FC;\n",
              "    }\n",
              "\n",
              "    [theme=dark] .colab-df-convert:hover {\n",
              "      background-color: #434B5C;\n",
              "      box-shadow: 0px 1px 3px 1px rgba(0, 0, 0, 0.15);\n",
              "      filter: drop-shadow(0px 1px 2px rgba(0, 0, 0, 0.3));\n",
              "      fill: #FFFFFF;\n",
              "    }\n",
              "  </style>\n",
              "\n",
              "    <script>\n",
              "      const buttonEl =\n",
              "        document.querySelector('#df-9b040c5a-d104-48fa-9cf9-1b5e7ff3f31e button.colab-df-convert');\n",
              "      buttonEl.style.display =\n",
              "        google.colab.kernel.accessAllowed ? 'block' : 'none';\n",
              "\n",
              "      async function convertToInteractive(key) {\n",
              "        const element = document.querySelector('#df-9b040c5a-d104-48fa-9cf9-1b5e7ff3f31e');\n",
              "        const dataTable =\n",
              "          await google.colab.kernel.invokeFunction('convertToInteractive',\n",
              "                                                    [key], {});\n",
              "        if (!dataTable) return;\n",
              "\n",
              "        const docLinkHtml = 'Like what you see? Visit the ' +\n",
              "          '<a target=\"_blank\" href=https://colab.research.google.com/notebooks/data_table.ipynb>data table notebook</a>'\n",
              "          + ' to learn more about interactive tables.';\n",
              "        element.innerHTML = '';\n",
              "        dataTable['output_type'] = 'display_data';\n",
              "        await google.colab.output.renderOutput(dataTable, element);\n",
              "        const docLink = document.createElement('div');\n",
              "        docLink.innerHTML = docLinkHtml;\n",
              "        element.appendChild(docLink);\n",
              "      }\n",
              "    </script>\n",
              "  </div>\n",
              "\n",
              "\n",
              "<div id=\"df-8d6c74f2-ccf4-4d27-aae8-126e6549a9b0\">\n",
              "  <button class=\"colab-df-quickchart\" onclick=\"quickchart('df-8d6c74f2-ccf4-4d27-aae8-126e6549a9b0')\"\n",
              "            title=\"Suggest charts.\"\n",
              "            style=\"display:none;\">\n",
              "\n",
              "<svg xmlns=\"http://www.w3.org/2000/svg\" height=\"24px\"viewBox=\"0 0 24 24\"\n",
              "     width=\"24px\">\n",
              "    <g>\n",
              "        <path d=\"M19 3H5c-1.1 0-2 .9-2 2v14c0 1.1.9 2 2 2h14c1.1 0 2-.9 2-2V5c0-1.1-.9-2-2-2zM9 17H7v-7h2v7zm4 0h-2V7h2v10zm4 0h-2v-4h2v4z\"/>\n",
              "    </g>\n",
              "</svg>\n",
              "  </button>\n",
              "\n",
              "<style>\n",
              "  .colab-df-quickchart {\n",
              "    background-color: #E8F0FE;\n",
              "    border: none;\n",
              "    border-radius: 50%;\n",
              "    cursor: pointer;\n",
              "    display: none;\n",
              "    fill: #1967D2;\n",
              "    height: 32px;\n",
              "    padding: 0 0 0 0;\n",
              "    width: 32px;\n",
              "  }\n",
              "\n",
              "  .colab-df-quickchart:hover {\n",
              "    background-color: #E2EBFA;\n",
              "    box-shadow: 0px 1px 2px rgba(60, 64, 67, 0.3), 0px 1px 3px 1px rgba(60, 64, 67, 0.15);\n",
              "    fill: #174EA6;\n",
              "  }\n",
              "\n",
              "  [theme=dark] .colab-df-quickchart {\n",
              "    background-color: #3B4455;\n",
              "    fill: #D2E3FC;\n",
              "  }\n",
              "\n",
              "  [theme=dark] .colab-df-quickchart:hover {\n",
              "    background-color: #434B5C;\n",
              "    box-shadow: 0px 1px 3px 1px rgba(0, 0, 0, 0.15);\n",
              "    filter: drop-shadow(0px 1px 2px rgba(0, 0, 0, 0.3));\n",
              "    fill: #FFFFFF;\n",
              "  }\n",
              "</style>\n",
              "\n",
              "  <script>\n",
              "    async function quickchart(key) {\n",
              "      const charts = await google.colab.kernel.invokeFunction(\n",
              "          'suggestCharts', [key], {});\n",
              "    }\n",
              "    (() => {\n",
              "      let quickchartButtonEl =\n",
              "        document.querySelector('#df-8d6c74f2-ccf4-4d27-aae8-126e6549a9b0 button');\n",
              "      quickchartButtonEl.style.display =\n",
              "        google.colab.kernel.accessAllowed ? 'block' : 'none';\n",
              "    })();\n",
              "  </script>\n",
              "</div>\n",
              "    </div>\n",
              "  </div>\n"
            ]
          },
          "metadata": {},
          "execution_count": 76
        }
      ]
    },
    {
      "cell_type": "code",
      "source": [
        "g_choice=df_new.groupby('choice_description')"
      ],
      "metadata": {
        "id": "EMN-FpfiaKcu"
      },
      "execution_count": 77,
      "outputs": []
    },
    {
      "cell_type": "code",
      "source": [
        "g_choice['item_name'].count()"
      ],
      "metadata": {
        "colab": {
          "base_uri": "https://localhost:8080/"
        },
        "id": "kpciHuh7a5cW",
        "outputId": "697f2322-a968-4584-bfd7-c1da8e4d89f6"
      },
      "execution_count": 78,
      "outputs": [
        {
          "output_type": "execute_result",
          "data": {
            "text/plain": [
              "choice_description\n",
              "Adobo-Marinated and Grilled Chicken        5\n",
              "Adobo-Marinated and Grilled Steak          4\n",
              "Apple                                      6\n",
              "Black Beans                             1342\n",
              "Blackberry                                 8\n",
              "Braised Barbacoa                           2\n",
              "Braised Carnitas                           1\n",
              "Brown Rice                                 2\n",
              "Cheese                                  2281\n",
              "Cilantro-Lime Rice                         7\n",
              "Clementine                                 8\n",
              "Coca Cola                                 26\n",
              "Coke                                     123\n",
              "Diet Coke                                134\n",
              "Diet Dr. Pepper                           13\n",
              "Dr. Pepper                                18\n",
              "Fajita Vegetables                        722\n",
              "Fajita Veggies                           302\n",
              "Fresh Tomato (Mild)                       31\n",
              "Fresh Tomato Salsa                      1046\n",
              "Fresh Tomato Salsa (Mild)                351\n",
              "Grapefruit                                 4\n",
              "Guacamole                               1037\n",
              "Lemonade                                  33\n",
              "Lettuce                                 1742\n",
              "Mountain Dew                              15\n",
              "Nestea                                    20\n",
              "Peach Orange                               8\n",
              "Pineapple Orange Banana                    8\n",
              "Pinto Beans                              582\n",
              "Pomegranate Cherry                         5\n",
              "Rice                                    2389\n",
              "Roasted Chili Corn (Medium)                3\n",
              "Roasted Chili Corn Salsa                 457\n",
              "Roasted Chili Corn Salsa (Medium)        270\n",
              "Salsa                                      6\n",
              "Sour Cream                              1711\n",
              "Sprite                                    77\n",
              "Tomatillo Green Chili (Medium)             2\n",
              "Tomatillo Green Chili Salsa              230\n",
              "Tomatillo Red Chili (Hot)                  3\n",
              "Tomatillo Red Chili Salsa                325\n",
              "Tomatillo-Green Chili Salsa (Medium)     128\n",
              "Tomatillo-Red Chili Salsa (Hot)          259\n",
              "Vegetarian Black Beans                     3\n",
              "White Rice                                 5\n",
              "Name: item_name, dtype: int64"
            ]
          },
          "metadata": {},
          "execution_count": 78
        }
      ]
    },
    {
      "cell_type": "code",
      "source": [
        "g_choice['item_name'].count().max()"
      ],
      "metadata": {
        "colab": {
          "base_uri": "https://localhost:8080/"
        },
        "id": "0ZtA3CokcGjk",
        "outputId": "a6155b29-b816-4955-a8d6-f943220d1e7f"
      },
      "execution_count": 79,
      "outputs": [
        {
          "output_type": "execute_result",
          "data": {
            "text/plain": [
              "2389"
            ]
          },
          "metadata": {},
          "execution_count": 79
        }
      ]
    },
    {
      "cell_type": "code",
      "source": [
        "plt.bar([d for d,total in g_choice],g_choice['item_name'].count())\n",
        "plt.xticks([d for d,total in g_choice],rotation='vertical',size=8)\n",
        "plt.show()"
      ],
      "metadata": {
        "colab": {
          "base_uri": "https://localhost:8080/",
          "height": 628
        },
        "id": "imYuavxkbG5a",
        "outputId": "bde8faa2-b24c-4eb1-9536-f7f68f992f84"
      },
      "execution_count": 80,
      "outputs": [
        {
          "output_type": "display_data",
          "data": {
            "text/plain": [
              "<Figure size 640x480 with 1 Axes>"
            ],
            "image/png": "[encoded data removed]"
          },
          "metadata": {}
        }
      ]
    },
    {
      "cell_type": "markdown",
      "source": [
        "How many items were ordered in total?4622"
      ],
      "metadata": {
        "id": "Lx5_3ZA0jtRV"
      }
    },
    {
      "cell_type": "code",
      "source": [
        "df[df['choice_description'].str.contains(\"Rice\").fillna(False)]['quantity'].count()"
      ],
      "metadata": {
        "colab": {
          "base_uri": "https://localhost:8080/"
        },
        "id": "cdexSK4-dLRY",
        "outputId": "aeb4eec9-9d7b-4643-faac-8f1c0e16003b"
      },
      "execution_count": 96,
      "outputs": [
        {
          "output_type": "execute_result",
          "data": {
            "text/plain": [
              "2402"
            ]
          },
          "metadata": {},
          "execution_count": 96
        }
      ]
    },
    {
      "cell_type": "code",
      "source": [
        "df['item_name'].count()"
      ],
      "metadata": {
        "colab": {
          "base_uri": "https://localhost:8080/"
        },
        "id": "JWVH_-2_mZCO",
        "outputId": "9722b6ef-59a8-42b4-9cc3-625d832af636"
      },
      "execution_count": 95,
      "outputs": [
        {
          "output_type": "execute_result",
          "data": {
            "text/plain": [
              "4622"
            ]
          },
          "metadata": {},
          "execution_count": 95
        }
      ]
    },
    {
      "cell_type": "markdown",
      "source": [
        "Turn the item price into a float\n",
        "\n"
      ],
      "metadata": {
        "id": "HMVgWFK1fBpg"
      }
    },
    {
      "cell_type": "code",
      "source": [
        "df.dtypes"
      ],
      "metadata": {
        "colab": {
          "base_uri": "https://localhost:8080/"
        },
        "id": "FgmmBrhBdWL6",
        "outputId": "dbb248a5-2195-4e26-c661-6031310f226c"
      },
      "execution_count": 82,
      "outputs": [
        {
          "output_type": "execute_result",
          "data": {
            "text/plain": [
              "order_id               int64\n",
              "quantity               int64\n",
              "item_name             object\n",
              "choice_description    object\n",
              "item_price            object\n",
              "dtype: object"
            ]
          },
          "metadata": {},
          "execution_count": 82
        }
      ]
    },
    {
      "cell_type": "code",
      "source": [
        "df['item_price'].unique()"
      ],
      "metadata": {
        "colab": {
          "base_uri": "https://localhost:8080/"
        },
        "id": "PWUuIwZTfXTu",
        "outputId": "bfd91083-69c2-4d3d-f342-e0713efb3c9a"
      },
      "execution_count": 83,
      "outputs": [
        {
          "output_type": "execute_result",
          "data": {
            "text/plain": [
              "array(['$2.39 ', '$3.39 ', '$16.98 ', '$10.98 ', '$1.69 ', '$11.75 ',\n",
              "       '$9.25 ', '$4.45 ', '$8.75 ', '$11.25 ', '$8.49 ', '$2.18 ',\n",
              "       '$8.99 ', '$1.09 ', '$2.95 ', '$2.15 ', '$3.99 ', '$22.50 ',\n",
              "       '$11.48 ', '$17.98 ', '$17.50 ', '$4.30 ', '$5.90 ', '$1.25 ',\n",
              "       '$23.78 ', '$6.49 ', '$11.08 ', '$1.50 ', '$22.16 ', '$32.94 ',\n",
              "       '$22.20 ', '$10.58 ', '$2.50 ', '$23.50 ', '$7.40 ', '$18.50 ',\n",
              "       '$3.00 ', '$6.78 ', '$11.89 ', '$9.39 ', '$4.00 ', '$3.75 ',\n",
              "       '$8.69 ', '$2.29 ', '$8.90 ', '$3.27 ', '$3.89 ', '$8.19 ',\n",
              "       '$35.00 ', '$27.75 ', '$11.80 ', '$6.00 ', '$26.25 ', '$21.96 ',\n",
              "       '$4.36 ', '$7.50 ', '$4.78 ', '$13.35 ', '$6.45 ', '$5.07 ',\n",
              "       '$22.96 ', '$7.17 ', '$7.98 ', '$4.50 ', '$26.07 ', '$12.98 ',\n",
              "       '$35.25 ', '$44.25 ', '$10.50 ', '$33.75 ', '$16.38 ', '$13.52 ',\n",
              "       '$5.00 ', '$15.00 ', '$8.50 ', '$17.80 ', '$1.99 ', '$11.49 '],\n",
              "      dtype=object)"
            ]
          },
          "metadata": {},
          "execution_count": 83
        }
      ]
    },
    {
      "cell_type": "code",
      "source": [
        "df['item_price']=df['item_price'].str.strip('$')"
      ],
      "metadata": {
        "id": "2tXMmQzYfhXH"
      },
      "execution_count": 84,
      "outputs": []
    },
    {
      "cell_type": "code",
      "source": [
        "df['item_price']=df['item_price'].astype('float')"
      ],
      "metadata": {
        "id": "t2RSR0CNfEYe"
      },
      "execution_count": 85,
      "outputs": []
    },
    {
      "cell_type": "code",
      "source": [
        "df.dtypes"
      ],
      "metadata": {
        "colab": {
          "base_uri": "https://localhost:8080/"
        },
        "id": "ZTKLbiWofSJt",
        "outputId": "49616a6c-311d-40c4-aa99-f20dca04af2f"
      },
      "execution_count": 86,
      "outputs": [
        {
          "output_type": "execute_result",
          "data": {
            "text/plain": [
              "order_id                int64\n",
              "quantity                int64\n",
              "item_name              object\n",
              "choice_description     object\n",
              "item_price            float64\n",
              "dtype: object"
            ]
          },
          "metadata": {},
          "execution_count": 86
        }
      ]
    },
    {
      "cell_type": "markdown",
      "source": [
        "How much was the revenue for the period in the dataset? $34560.16"
      ],
      "metadata": {
        "id": "dUMaic-Bf2jR"
      }
    },
    {
      "cell_type": "code",
      "source": [
        "df['item_price'].sum()"
      ],
      "metadata": {
        "colab": {
          "base_uri": "https://localhost:8080/"
        },
        "id": "115VzIpTf0dJ",
        "outputId": "b620e213-b031-47a1-8214-96663e165c55"
      },
      "execution_count": 87,
      "outputs": [
        {
          "output_type": "execute_result",
          "data": {
            "text/plain": [
              "34500.16"
            ]
          },
          "metadata": {},
          "execution_count": 87
        }
      ]
    },
    {
      "cell_type": "markdown",
      "source": [
        "How many orders were made in the period?1834\n"
      ],
      "metadata": {
        "id": "lq1-tzKqgZJM"
      }
    },
    {
      "cell_type": "code",
      "source": [
        "df.head(2)"
      ],
      "metadata": {
        "colab": {
          "base_uri": "https://localhost:8080/",
          "height": 112
        },
        "id": "FgWZPSD2f95N",
        "outputId": "7a7259f1-fb03-4fa9-a284-5d6502cacac3"
      },
      "execution_count": 88,
      "outputs": [
        {
          "output_type": "execute_result",
          "data": {
            "text/plain": [
              "   order_id  quantity                     item_name choice_description  \\\n",
              "0         1         1  Chips and Fresh Tomato Salsa                NaN   \n",
              "1         1         1                          Izze       [Clementine]   \n",
              "\n",
              "   item_price  \n",
              "0        2.39  \n",
              "1        3.39  "
            ],
            "text/html": [
              "\n",
              "  <div id=\"df-614cd263-d144-4937-a2b6-e164b9e1f000\" class=\"colab-df-container\">\n",
              "    <div>\n",
              "<style scoped>\n",
              "    .dataframe tbody tr th:only-of-type {\n",
              "        vertical-align: middle;\n",
              "    }\n",
              "\n",
              "    .dataframe tbody tr th {\n",
              "        vertical-align: top;\n",
              "    }\n",
              "\n",
              "    .dataframe thead th {\n",
              "        text-align: right;\n",
              "    }\n",
              "</style>\n",
              "<table border=\"1\" class=\"dataframe\">\n",
              "  <thead>\n",
              "    <tr style=\"text-align: right;\">\n",
              "      <th></th>\n",
              "      <th>order_id</th>\n",
              "      <th>quantity</th>\n",
              "      <th>item_name</th>\n",
              "      <th>choice_description</th>\n",
              "      <th>item_price</th>\n",
              "    </tr>\n",
              "  </thead>\n",
              "  <tbody>\n",
              "    <tr>\n",
              "      <th>0</th>\n",
              "      <td>1</td>\n",
              "      <td>1</td>\n",
              "      <td>Chips and Fresh Tomato Salsa</td>\n",
              "      <td>NaN</td>\n",
              "      <td>2.39</td>\n",
              "    </tr>\n",
              "    <tr>\n",
              "      <th>1</th>\n",
              "      <td>1</td>\n",
              "      <td>1</td>\n",
              "      <td>Izze</td>\n",
              "      <td>[Clementine]</td>\n",
              "      <td>3.39</td>\n",
              "    </tr>\n",
              "  </tbody>\n",
              "</table>\n",
              "</div>\n",
              "    <div class=\"colab-df-buttons\">\n",
              "\n",
              "  <div class=\"colab-df-container\">\n",
              "    <button class=\"colab-df-convert\" onclick=\"convertToInteractive('df-614cd263-d144-4937-a2b6-e164b9e1f000')\"\n",
              "            title=\"Convert this dataframe to an interactive table.\"\n",
              "            style=\"display:none;\">\n",
              "\n",
              "  <svg xmlns=\"http://www.w3.org/2000/svg\" height=\"24px\" viewBox=\"0 -960 960 960\">\n",
              "    <path d=\"M120-120v-720h720v720H120Zm60-500h600v-160H180v160Zm220 220h160v-160H400v160Zm0 220h160v-160H400v160ZM180-400h160v-160H180v160Zm440 0h160v-160H620v160ZM180-180h160v-160H180v160Zm440 0h160v-160H620v160Z\"/>\n",
              "  </svg>\n",
              "    </button>\n",
              "\n",
              "  <style>\n",
              "    .colab-df-container {\n",
              "      display:flex;\n",
              "      gap: 12px;\n",
              "    }\n",
              "\n",
              "    .colab-df-convert {\n",
              "      background-color: #E8F0FE;\n",
              "      border: none;\n",
              "      border-radius: 50%;\n",
              "      cursor: pointer;\n",
              "      display: none;\n",
              "      fill: #1967D2;\n",
              "      height: 32px;\n",
              "      padding: 0 0 0 0;\n",
              "      width: 32px;\n",
              "    }\n",
              "\n",
              "    .colab-df-convert:hover {\n",
              "      background-color: #E2EBFA;\n",
              "      box-shadow: 0px 1px 2px rgba(60, 64, 67, 0.3), 0px 1px 3px 1px rgba(60, 64, 67, 0.15);\n",
              "      fill: #174EA6;\n",
              "    }\n",
              "\n",
              "    .colab-df-buttons div {\n",
              "      margin-bottom: 4px;\n",
              "    }\n",
              "\n",
              "    [theme=dark] .colab-df-convert {\n",
              "      background-color: #3B4455;\n",
              "      fill: #D2E3FC;\n",
              "    }\n",
              "\n",
              "    [theme=dark] .colab-df-convert:hover {\n",
              "      background-color: #434B5C;\n",
              "      box-shadow: 0px 1px 3px 1px rgba(0, 0, 0, 0.15);\n",
              "      filter: drop-shadow(0px 1px 2px rgba(0, 0, 0, 0.3));\n",
              "      fill: #FFFFFF;\n",
              "    }\n",
              "  </style>\n",
              "\n",
              "    <script>\n",
              "      const buttonEl =\n",
              "        document.querySelector('#df-614cd263-d144-4937-a2b6-e164b9e1f000 button.colab-df-convert');\n",
              "      buttonEl.style.display =\n",
              "        google.colab.kernel.accessAllowed ? 'block' : 'none';\n",
              "\n",
              "      async function convertToInteractive(key) {\n",
              "        const element = document.querySelector('#df-614cd263-d144-4937-a2b6-e164b9e1f000');\n",
              "        const dataTable =\n",
              "          await google.colab.kernel.invokeFunction('convertToInteractive',\n",
              "                                                    [key], {});\n",
              "        if (!dataTable) return;\n",
              "\n",
              "        const docLinkHtml = 'Like what you see? Visit the ' +\n",
              "          '<a target=\"_blank\" href=https://colab.research.google.com/notebooks/data_table.ipynb>data table notebook</a>'\n",
              "          + ' to learn more about interactive tables.';\n",
              "        element.innerHTML = '';\n",
              "        dataTable['output_type'] = 'display_data';\n",
              "        await google.colab.output.renderOutput(dataTable, element);\n",
              "        const docLink = document.createElement('div');\n",
              "        docLink.innerHTML = docLinkHtml;\n",
              "        element.appendChild(docLink);\n",
              "      }\n",
              "    </script>\n",
              "  </div>\n",
              "\n",
              "\n",
              "<div id=\"df-5dc27e12-e370-4a19-ab88-e5b97bfadfd5\">\n",
              "  <button class=\"colab-df-quickchart\" onclick=\"quickchart('df-5dc27e12-e370-4a19-ab88-e5b97bfadfd5')\"\n",
              "            title=\"Suggest charts.\"\n",
              "            style=\"display:none;\">\n",
              "\n",
              "<svg xmlns=\"http://www.w3.org/2000/svg\" height=\"24px\"viewBox=\"0 0 24 24\"\n",
              "     width=\"24px\">\n",
              "    <g>\n",
              "        <path d=\"M19 3H5c-1.1 0-2 .9-2 2v14c0 1.1.9 2 2 2h14c1.1 0 2-.9 2-2V5c0-1.1-.9-2-2-2zM9 17H7v-7h2v7zm4 0h-2V7h2v10zm4 0h-2v-4h2v4z\"/>\n",
              "    </g>\n",
              "</svg>\n",
              "  </button>\n",
              "\n",
              "<style>\n",
              "  .colab-df-quickchart {\n",
              "    background-color: #E8F0FE;\n",
              "    border: none;\n",
              "    border-radius: 50%;\n",
              "    cursor: pointer;\n",
              "    display: none;\n",
              "    fill: #1967D2;\n",
              "    height: 32px;\n",
              "    padding: 0 0 0 0;\n",
              "    width: 32px;\n",
              "  }\n",
              "\n",
              "  .colab-df-quickchart:hover {\n",
              "    background-color: #E2EBFA;\n",
              "    box-shadow: 0px 1px 2px rgba(60, 64, 67, 0.3), 0px 1px 3px 1px rgba(60, 64, 67, 0.15);\n",
              "    fill: #174EA6;\n",
              "  }\n",
              "\n",
              "  [theme=dark] .colab-df-quickchart {\n",
              "    background-color: #3B4455;\n",
              "    fill: #D2E3FC;\n",
              "  }\n",
              "\n",
              "  [theme=dark] .colab-df-quickchart:hover {\n",
              "    background-color: #434B5C;\n",
              "    box-shadow: 0px 1px 3px 1px rgba(0, 0, 0, 0.15);\n",
              "    filter: drop-shadow(0px 1px 2px rgba(0, 0, 0, 0.3));\n",
              "    fill: #FFFFFF;\n",
              "  }\n",
              "</style>\n",
              "\n",
              "  <script>\n",
              "    async function quickchart(key) {\n",
              "      const charts = await google.colab.kernel.invokeFunction(\n",
              "          'suggestCharts', [key], {});\n",
              "    }\n",
              "    (() => {\n",
              "      let quickchartButtonEl =\n",
              "        document.querySelector('#df-5dc27e12-e370-4a19-ab88-e5b97bfadfd5 button');\n",
              "      quickchartButtonEl.style.display =\n",
              "        google.colab.kernel.accessAllowed ? 'block' : 'none';\n",
              "    })();\n",
              "  </script>\n",
              "</div>\n",
              "    </div>\n",
              "  </div>\n"
            ]
          },
          "metadata": {},
          "execution_count": 88
        }
      ]
    },
    {
      "cell_type": "code",
      "source": [
        "df.groupby('order_id')['order_id'].count()"
      ],
      "metadata": {
        "colab": {
          "base_uri": "https://localhost:8080/"
        },
        "id": "sbzFpO2lgdTm",
        "outputId": "2e5623eb-4524-41e9-f147-0ff10e044933"
      },
      "execution_count": 89,
      "outputs": [
        {
          "output_type": "execute_result",
          "data": {
            "text/plain": [
              "order_id\n",
              "1       4\n",
              "2       1\n",
              "3       2\n",
              "4       2\n",
              "5       2\n",
              "       ..\n",
              "1830    2\n",
              "1831    3\n",
              "1832    2\n",
              "1833    2\n",
              "1834    3\n",
              "Name: order_id, Length: 1834, dtype: int64"
            ]
          },
          "metadata": {},
          "execution_count": 89
        }
      ]
    },
    {
      "cell_type": "code",
      "source": [
        "df['order_id'].nunique()  #other way to find"
      ],
      "metadata": {
        "colab": {
          "base_uri": "https://localhost:8080/"
        },
        "id": "JWt9oeGgkKGm",
        "outputId": "f16b6686-1cab-4556-aec9-48d0eb39940f"
      },
      "execution_count": 90,
      "outputs": [
        {
          "output_type": "execute_result",
          "data": {
            "text/plain": [
              "1834"
            ]
          },
          "metadata": {},
          "execution_count": 90
        }
      ]
    },
    {
      "cell_type": "markdown",
      "source": [
        "What is the average revenue amount per order?  $18.8441439476554\n",
        "\n"
      ],
      "metadata": {
        "id": "rPQm9hDhhixq"
      }
    },
    {
      "cell_type": "code",
      "source": [
        "avg=34560.16/1834 #total revenue/total order\n",
        "print(avg)"
      ],
      "metadata": {
        "colab": {
          "base_uri": "https://localhost:8080/"
        },
        "id": "NdrttBcPgwFw",
        "outputId": "f2ed3f52-65f9-4466-8fad-763f2d27f348"
      },
      "execution_count": 91,
      "outputs": [
        {
          "output_type": "stream",
          "name": "stdout",
          "text": [
            "18.8441439476554\n"
          ]
        }
      ]
    },
    {
      "cell_type": "markdown",
      "source": [
        "How many different items are sold?50"
      ],
      "metadata": {
        "id": "rDiBOr3LiG6H"
      }
    },
    {
      "cell_type": "code",
      "source": [
        "df['item_name'].nunique()"
      ],
      "metadata": {
        "colab": {
          "base_uri": "https://localhost:8080/"
        },
        "id": "z-nvJlTVh-7U",
        "outputId": "99e42fc6-f7d7-4fe7-bbfb-8a5e57830281"
      },
      "execution_count": 92,
      "outputs": [
        {
          "output_type": "execute_result",
          "data": {
            "text/plain": [
              "50"
            ]
          },
          "metadata": {},
          "execution_count": 92
        }
      ]
    },
    {
      "cell_type": "code",
      "source": [
        "df['item_name'].unique()"
      ],
      "metadata": {
        "colab": {
          "base_uri": "https://localhost:8080/"
        },
        "id": "V7ww39sniZL4",
        "outputId": "21c25d3b-ae54-4640-887d-13abb11828ac"
      },
      "execution_count": 93,
      "outputs": [
        {
          "output_type": "execute_result",
          "data": {
            "text/plain": [
              "array(['Chips and Fresh Tomato Salsa', 'Izze', 'Nantucket Nectar',\n",
              "       'Chips and Tomatillo-Green Chili Salsa', 'Chicken Bowl',\n",
              "       'Side of Chips', 'Steak Burrito', 'Steak Soft Tacos',\n",
              "       'Chips and Guacamole', 'Chicken Crispy Tacos',\n",
              "       'Chicken Soft Tacos', 'Chicken Burrito', 'Canned Soda',\n",
              "       'Barbacoa Burrito', 'Carnitas Burrito', 'Carnitas Bowl',\n",
              "       'Bottled Water', 'Chips and Tomatillo Green Chili Salsa',\n",
              "       'Barbacoa Bowl', 'Chips', 'Chicken Salad Bowl', 'Steak Bowl',\n",
              "       'Barbacoa Soft Tacos', 'Veggie Burrito', 'Veggie Bowl',\n",
              "       'Steak Crispy Tacos', 'Chips and Tomatillo Red Chili Salsa',\n",
              "       'Barbacoa Crispy Tacos', 'Veggie Salad Bowl',\n",
              "       'Chips and Roasted Chili-Corn Salsa',\n",
              "       'Chips and Roasted Chili Corn Salsa', 'Carnitas Soft Tacos',\n",
              "       'Chicken Salad', 'Canned Soft Drink', 'Steak Salad Bowl',\n",
              "       '6 Pack Soft Drink', 'Chips and Tomatillo-Red Chili Salsa', 'Bowl',\n",
              "       'Burrito', 'Crispy Tacos', 'Carnitas Crispy Tacos', 'Steak Salad',\n",
              "       'Chips and Mild Fresh Tomato Salsa', 'Veggie Soft Tacos',\n",
              "       'Carnitas Salad Bowl', 'Barbacoa Salad Bowl', 'Salad',\n",
              "       'Veggie Crispy Tacos', 'Veggie Salad', 'Carnitas Salad'],\n",
              "      dtype=object)"
            ]
          },
          "metadata": {},
          "execution_count": 93
        }
      ]
    },
    {
      "cell_type": "code",
      "source": [],
      "metadata": {
        "id": "ddWDnTujkhpc"
      },
      "execution_count": 93,
      "outputs": []
    }
  ]
}